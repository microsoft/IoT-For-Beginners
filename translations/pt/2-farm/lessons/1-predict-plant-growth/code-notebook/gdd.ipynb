{
 "cells": [
  {
   "cell_type": "markdown",
   "metadata": {},
   "source": [
    "# Dias de Grau de Crescimento\n",
    "\n",
    "Este notebook carrega dados de temperatura guardados num ficheiro CSV e analisa-os. Ele apresenta os gráficos das temperaturas, mostra os valores mais altos e mais baixos de cada dia, e calcula o GDD.\n",
    "\n",
    "Para utilizar este notebook:\n",
    "\n",
    "* Copie o ficheiro `temperature.csv` para a mesma pasta deste notebook\n",
    "* Execute todas as células utilizando o botão **▶︎ Run** acima. Isto irá executar a célula selecionada e, em seguida, passar para a próxima.\n"
   ]
  },
  {
   "cell_type": "markdown",
   "metadata": {},
   "source": [
    "Na célula abaixo, defina `base_temperature` para a temperatura base da planta.\n"
   ]
  },
  {
   "cell_type": "code",
   "execution_count": 2,
   "metadata": {},
   "outputs": [],
   "source": [
    "base_temperature = 10"
   ]
  },
  {
   "cell_type": "markdown",
   "metadata": {},
   "source": [
    "O ficheiro CSV agora precisa de ser carregado, utilizando pandas\n"
   ]
  },
  {
   "cell_type": "code",
   "execution_count": null,
   "metadata": {},
   "outputs": [],
   "source": [
    "import pandas as pd\n",
    "import matplotlib.pyplot as plt\n",
    "\n",
    "# Read the temperature CSV file\n",
    "df = pd.read_csv('temperature.csv')"
   ]
  },
  {
   "cell_type": "markdown",
   "metadata": {},
   "source": []
  },
  {
   "cell_type": "code",
   "execution_count": null,
   "metadata": {},
   "outputs": [],
   "source": [
    "plt.figure(figsize=(20, 10))\n",
    "plt.plot(df['date'], df['temperature'])\n",
    "plt.xticks(rotation='vertical');"
   ]
  },
  {
   "cell_type": "markdown",
   "metadata": {},
   "source": [
    "Depois de os dados serem lidos, podem ser agrupados pela coluna `date`, e as temperaturas mínima e máxima extraídas para cada data.\n"
   ]
  },
  {
   "cell_type": "code",
   "execution_count": null,
   "metadata": {},
   "outputs": [],
   "source": [
    "# Convert datetimes to pure dates so we can group by the date\n",
    "df['date'] = pd.to_datetime(df['date']).dt.date\n",
    "\n",
    "# Group the data by date so it can be analyzed by date\n",
    "data_by_date = df.groupby('date')\n",
    "\n",
    "# Get the minimum and maximum temperatures for each date\n",
    "min_by_date = data_by_date.min()\n",
    "max_by_date = data_by_date.max()\n",
    "\n",
    "# Join the min and max temperatures into one dataframe and flatten it\n",
    "min_max_by_date = min_by_date.join(max_by_date, on='date', lsuffix='_min', rsuffix='_max')\n",
    "min_max_by_date = min_max_by_date.reset_index()"
   ]
  },
  {
   "cell_type": "markdown",
   "metadata": {},
   "source": [
    "O GDD pode ser calculado usando a equação padrão de GDD\n"
   ]
  },
  {
   "cell_type": "code",
   "execution_count": null,
   "metadata": {},
   "outputs": [],
   "source": [
    "def calculate_gdd(row):\n",
    "    return ((row['temperature_max'] + row['temperature_min']) / 2) - base_temperature\n",
    "\n",
    "# Calculate the GDD for each row\n",
    "min_max_by_date['gdd'] = min_max_by_date.apply (lambda row: calculate_gdd(row), axis=1)\n",
    "\n",
    "# Print the results\n",
    "print(min_max_by_date[['date', 'gdd']].to_string(index=False))"
   ]
  },
  {
   "cell_type": "code",
   "execution_count": null,
   "metadata": {},
   "outputs": [],
   "source": []
  },
  {
   "cell_type": "markdown",
   "metadata": {},
   "source": [
    "\n---\n\n**Aviso**:  \nEste documento foi traduzido utilizando o serviço de tradução por IA [Co-op Translator](https://github.com/Azure/co-op-translator). Embora nos esforcemos pela precisão, é importante notar que traduções automáticas podem conter erros ou imprecisões. O documento original na sua língua nativa deve ser considerado a fonte autoritária. Para informações críticas, recomenda-se uma tradução profissional realizada por humanos. Não nos responsabilizamos por quaisquer mal-entendidos ou interpretações incorretas decorrentes da utilização desta tradução.\n"
   ]
  }
 ],
 "metadata": {
  "kernelspec": {
   "display_name": "Python 3",
   "language": "python",
   "name": "python3"
  },
  "language_info": {
   "codemirror_mode": {
    "name": "ipython",
    "version": 3
   },
   "file_extension": ".py",
   "mimetype": "text/x-python",
   "name": "python",
   "nbconvert_exporter": "python",
   "pygments_lexer": "ipython3",
   "version": "3.9.1"
  },
  "metadata": {
   "interpreter": {
    "hash": "aee8b7b246df8f9039afb4144a1f6fd8d2ca17a180786b69acc140d282b71a49"
   }
  },
  "coopTranslator": {
   "original_hash": "8fcf954f6042f0bf3601a2c836a09574",
   "translation_date": "2025-08-26T15:59:17+00:00",
   "source_file": "2-farm/lessons/1-predict-plant-growth/code-notebook/gdd.ipynb",
   "language_code": "pt"
  }
 },
 "nbformat": 4,
 "nbformat_minor": 2
}